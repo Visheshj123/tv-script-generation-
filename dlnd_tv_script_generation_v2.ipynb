{
  "cells": [
    {
      "cell_type": "markdown",
      "metadata": {
        "id": "view-in-github",
        "colab_type": "text"
      },
      "source": [
        "<a href=\"https://colab.research.google.com/github/Visheshj123/tv-script-generation-/blob/main/dlnd_tv_script_generation_v2.ipynb\" target=\"_parent\"><img src=\"https://colab.research.google.com/assets/colab-badge.svg\" alt=\"Open In Colab\"/></a>"
      ]
    },
    {
      "cell_type": "markdown",
      "metadata": {
        "id": "TNkj_vtCHPIV"
      },
      "source": [
        "# TV Script Generation\n",
        "\n",
        "In this project, you'll generate your own [Seinfeld](https://en.wikipedia.org/wiki/Seinfeld) TV scripts using RNNs.  You'll be using part of the [Seinfeld dataset](https://www.kaggle.com/thec03u5/seinfeld-chronicles#scripts.csv) of scripts from 9 seasons.  The Neural Network you'll build will generate a new ,\"fake\" TV script, based on patterns it recognizes in this training data.\n",
        "\n",
        "## Get the Data\n",
        "\n",
        "The data is already provided for you in `./data/Seinfeld_Scripts.txt` and you're encouraged to open that file and look at the text. \n",
        ">* As a first step, we'll load in this data and look at some samples. \n",
        "* Then, you'll be tasked with defining and training an RNN to generate a new script!"
      ]
    },
    {
      "cell_type": "code",
      "source": [
        "#attach google drive to read in files\n",
        "from google.colab import drive\n",
        "drive.mount('/content/drive')\n"
      ],
      "metadata": {
        "colab": {
          "base_uri": "https://localhost:8080/"
        },
        "id": "uBud399MHSoA",
        "outputId": "a5a88ed8-16ad-40b9-fd22-adacfaa3c302"
      },
      "execution_count": null,
      "outputs": [
        {
          "output_type": "stream",
          "name": "stdout",
          "text": [
            "Mounted at /content/drive\n"
          ]
        }
      ]
    },
    {
      "cell_type": "code",
      "source": [
        "import os\n",
        "os.chdir('/content/drive/MyDrive/project-tv-script-generation')"
      ],
      "metadata": {
        "id": "OD1wUDwkH1zm"
      },
      "execution_count": null,
      "outputs": []
    },
    {
      "cell_type": "code",
      "execution_count": null,
      "metadata": {
        "collapsed": true,
        "id": "VByU2iHzHPIY"
      },
      "outputs": [],
      "source": [
        "\"\"\"\n",
        "DON'T MODIFY ANYTHING IN THIS CELL\n",
        "\"\"\"\n",
        "# load in data\n",
        "import helper\n",
        "data_dir = './data/Seinfeld_Scripts.txt'\n",
        "text = helper.load_data(data_dir)"
      ]
    },
    {
      "cell_type": "markdown",
      "metadata": {
        "id": "agNMOONUHPIa"
      },
      "source": [
        "## Explore the Data\n",
        "Play around with `view_line_range` to view different parts of the data. This will give you a sense of the data you'll be working with. You can see, for example, that it is all lowercase text, and each new line of dialogue is separated by a newline character `\\n`."
      ]
    },
    {
      "cell_type": "code",
      "execution_count": null,
      "metadata": {
        "collapsed": true,
        "colab": {
          "base_uri": "https://localhost:8080/"
        },
        "id": "S7dfWHiAHPIa",
        "outputId": "3b98a027-e637-45db-d8f2-e462507f3278"
      },
      "outputs": [
        {
          "output_type": "stream",
          "name": "stdout",
          "text": [
            "Dataset Stats\n",
            "Roughly the number of unique words: 46367\n",
            "Number of lines: 109233\n",
            "Average number of words in each line: 5.544240293684143\n",
            "The lines 0 to 10:\n",
            "jerry: do you know what this is all about? do you know, why were here? to be out, this is out...and out is one of the single most enjoyable experiences of life. people...did you ever hear people talking about we should go out? this is what theyre talking about...this whole thing, were all out now, no one is home. not one person here is home, were all out! there are people trying to find us, they dont know where we are. (on an imaginary phone) did you ring?, i cant find him. where did he go? he didnt tell me where he was going. he must have gone out. you wanna go out you get ready, you pick out the clothes, right? you take the shower, you get all ready, get the cash, get your friends, the car, the spot, the reservation...then youre standing around, what do you do? you go we gotta be getting back. once youre out, you wanna get back! you wanna go to sleep, you wanna get up, you wanna go out again tomorrow, right? where ever you are in life, its my feeling, youve gotta go. \n",
            "\n",
            "jerry: (pointing at georges shirt) see, to me, that button is in the worst possible spot. the second button literally makes or breaks the shirt, look at it. its too high! its in no-mans-land. you look like you live with your mother. \n",
            "\n",
            "george: are you through? \n",
            "\n",
            "jerry: you do of course try on, when you buy? \n",
            "\n",
            "george: yes, it was purple, i liked it, i dont actually recall considering the buttons. \n",
            "\n"
          ]
        }
      ],
      "source": [
        "view_line_range = (0, 10)\n",
        "\n",
        "\"\"\"\n",
        "DON'T MODIFY ANYTHING IN THIS CELL THAT IS BELOW THIS LINE\n",
        "\"\"\"\n",
        "import numpy as np\n",
        "\n",
        "print('Dataset Stats')\n",
        "print('Roughly the number of unique words: {}'.format(len({word: None for word in text.split()})))\n",
        "\n",
        "lines = text.split('\\n')\n",
        "print('Number of lines: {}'.format(len(lines)))\n",
        "word_count_line = [len(line.split()) for line in lines]\n",
        "print('Average number of words in each line: {}'.format(np.average(word_count_line)))\n",
        "\n",
        "print('The lines {} to {}:'.format(*view_line_range))\n",
        "print('\\n'.join(text.split('\\n')[view_line_range[0]:view_line_range[1]]))"
      ]
    },
    {
      "cell_type": "markdown",
      "metadata": {
        "id": "MCffzUJLHPIc"
      },
      "source": [
        "---\n",
        "## Implement Pre-processing Functions\n",
        "The first thing to do to any dataset is pre-processing.  Implement the following pre-processing functions below:\n",
        "- Lookup Table\n",
        "- Tokenize Punctuation\n",
        "\n",
        "### Lookup Table\n",
        "To create a word embedding, you first need to transform the words to ids.  In this function, create two dictionaries:\n",
        "- Dictionary to go from the words to an id, we'll call `vocab_to_int`\n",
        "- Dictionary to go from the id to word, we'll call `int_to_vocab`\n",
        "\n",
        "Return these dictionaries in the following **tuple** `(vocab_to_int, int_to_vocab)`"
      ]
    },
    {
      "cell_type": "code",
      "execution_count": null,
      "metadata": {
        "collapsed": true,
        "colab": {
          "base_uri": "https://localhost:8080/"
        },
        "id": "hD2ShkB4HPIc",
        "outputId": "90130b3d-0a5f-4200-a8d1-b20bd5f54a7c"
      },
      "outputs": [
        {
          "output_type": "stream",
          "name": "stdout",
          "text": [
            "Tests Passed\n"
          ]
        }
      ],
      "source": [
        "import problem_unittests as tests\n",
        "from collections import Counter\n",
        "def create_lookup_tables(text):\n",
        "    \"\"\"\n",
        "    Create lookup tables for vocabulary\n",
        "    :param text: The text of tv scripts split into words\n",
        "    :return: A tuple of dicts (vocab_to_int, int_to_vocab)\n",
        "    \"\"\"\n",
        "    # TODO: Implement Function\n",
        "    #get frequency of each unique word in text\n",
        "    c = Counter(text)\n",
        "\n",
        "    #create vocab_to_int using sorted counter keys\n",
        "    vocab_to_int = {word[0]:idx for idx, word in enumerate(c.most_common())}\n",
        "    int_to_vocab = {idx: word for word, idx in vocab_to_int.items()}\n",
        "\n",
        "    # return tuple\n",
        "    return (vocab_to_int, int_to_vocab)\n",
        "\n",
        "\"\"\"\n",
        "DON'T MODIFY ANYTHING IN THIS CELL THAT IS BELOW THIS LINE\n",
        "\"\"\"\n",
        "tests.test_create_lookup_tables(create_lookup_tables)"
      ]
    },
    {
      "cell_type": "markdown",
      "metadata": {
        "id": "F38-HuY3HPId"
      },
      "source": [
        "### Tokenize Punctuation\n",
        "We'll be splitting the script into a word array using spaces as delimiters.  However, punctuations like periods and exclamation marks can create multiple ids for the same word. For example, \"bye\" and \"bye!\" would generate two different word ids.\n",
        "\n",
        "Implement the function `token_lookup` to return a dict that will be used to tokenize symbols like \"!\" into \"||Exclamation_Mark||\".  Create a dictionary for the following symbols where the symbol is the key and value is the token:\n",
        "- Period ( **.** )\n",
        "- Comma ( **,** )\n",
        "- Quotation Mark ( **\"** )\n",
        "- Semicolon ( **;** )\n",
        "- Exclamation mark ( **!** )\n",
        "- Question mark ( **?** )\n",
        "- Left Parentheses ( **(** )\n",
        "- Right Parentheses ( **)** )\n",
        "- Dash ( **-** )\n",
        "- Return ( **\\n** )\n",
        "\n",
        "This dictionary will be used to tokenize the symbols and add the delimiter (space) around it.  This separates each symbols as its own word, making it easier for the neural network to predict the next word. Make sure you don't use a value that could be confused as a word; for example, instead of using the value \"dash\", try using something like \"||dash||\"."
      ]
    },
    {
      "cell_type": "code",
      "execution_count": null,
      "metadata": {
        "collapsed": true,
        "colab": {
          "base_uri": "https://localhost:8080/"
        },
        "id": "NcACiaUlHPIe",
        "outputId": "f229f745-5931-4354-bd05-7a7349ad4bdb"
      },
      "outputs": [
        {
          "output_type": "stream",
          "name": "stdout",
          "text": [
            "Tests Passed\n"
          ]
        }
      ],
      "source": [
        "def token_lookup():\n",
        "    \"\"\"\n",
        "    Generate a dict to turn punctuation into a token.\n",
        "    :return: Tokenized dictionary where the key is the punctuation and the value is the token\n",
        "    \"\"\"\n",
        "    spc_d = {\n",
        "      \".\": \"||Period||\", \n",
        "      \",\": \"||Comma||\",\n",
        "      '\"':\"||Quotation_Mark||\",\n",
        "      ';':\"||Semicolon||\", \n",
        "      '!':\"||Exclamation_Mark||\",\n",
        "      '?': \"||Question_Mark||\",\n",
        "      '(': \"||Left_Parentheses||\", \n",
        "      ')': '||Right_Parentheses||',\n",
        "      '-': \"||Dash||\",\n",
        "      '\\n': \"||Return||\"\n",
        "\n",
        "    }\n",
        "        \n",
        "    return spc_d\n",
        "\n",
        "\"\"\"\n",
        "DON'T MODIFY ANYTHING IN THIS CELL THAT IS BELOW THIS LINE\n",
        "\"\"\"\n",
        "tests.test_tokenize(token_lookup)"
      ]
    },
    {
      "cell_type": "markdown",
      "metadata": {
        "id": "q6His2xWHPIe"
      },
      "source": [
        "## Pre-process all the data and save it\n",
        "\n",
        "Running the code cell below will pre-process all the data and save it to file. You're encouraged to look at the code for `preprocess_and_save_data` in the `helpers.py` file to see what it's doing in detail, but you do not need to change this code."
      ]
    },
    {
      "cell_type": "code",
      "execution_count": null,
      "metadata": {
        "collapsed": true,
        "id": "y290VkwnHPIe"
      },
      "outputs": [],
      "source": [
        "\"\"\"\n",
        "DON'T MODIFY ANYTHING IN THIS CELL\n",
        "\"\"\"\n",
        "# pre-process training data\n",
        "helper.preprocess_and_save_data(data_dir, token_lookup, create_lookup_tables)"
      ]
    },
    {
      "cell_type": "markdown",
      "metadata": {
        "id": "7IwAIHg7HPIf"
      },
      "source": [
        "# Check Point\n",
        "This is your first checkpoint. If you ever decide to come back to this notebook or have to restart the notebook, you can start from here. The preprocessed data has been saved to disk."
      ]
    },
    {
      "cell_type": "code",
      "execution_count": null,
      "metadata": {
        "collapsed": true,
        "id": "er8kdRywHPIf"
      },
      "outputs": [],
      "source": [
        "\"\"\"\n",
        "DON'T MODIFY ANYTHING IN THIS CELL\n",
        "\"\"\"\n",
        "import helper\n",
        "import problem_unittests as tests #why are you importing again?\n",
        "\n",
        "int_text, vocab_to_int, int_to_vocab, token_dict = helper.load_preprocess()"
      ]
    },
    {
      "cell_type": "markdown",
      "metadata": {
        "id": "vLffqDoeHPIg"
      },
      "source": [
        "## Build the Neural Network\n",
        "In this section, you'll build the components necessary to build an RNN by implementing the RNN Module and forward and backpropagation functions.\n",
        "\n",
        "### Check Access to GPU"
      ]
    },
    {
      "cell_type": "code",
      "execution_count": null,
      "metadata": {
        "collapsed": true,
        "id": "wvV7XixaHPIg"
      },
      "outputs": [],
      "source": [
        "\"\"\"\n",
        "DON'T MODIFY ANYTHING IN THIS CELL\n",
        "\"\"\"\n",
        "import torch\n",
        "\n",
        "# Check for a GPU\n",
        "train_on_gpu = torch.cuda.is_available()\n",
        "if not train_on_gpu:\n",
        "    print('No GPU found. Please use a GPU to train your neural network.')"
      ]
    },
    {
      "cell_type": "markdown",
      "metadata": {
        "id": "d-QmzQRXHPIh"
      },
      "source": [
        "## Input\n",
        "Let's start with the preprocessed input data. We'll use [TensorDataset](http://pytorch.org/docs/master/data.html#torch.utils.data.TensorDataset) to provide a known format to our dataset; in combination with [DataLoader](http://pytorch.org/docs/master/data.html#torch.utils.data.DataLoader), it will handle batching, shuffling, and other dataset iteration functions.\n",
        "\n",
        "You can create data with TensorDataset by passing in feature and target tensors. Then create a DataLoader as usual.\n",
        "```\n",
        "data = TensorDataset(feature_tensors, target_tensors)\n",
        "data_loader = torch.utils.data.DataLoader(data, \n",
        "                                          batch_size=batch_size)\n",
        "```\n",
        "\n",
        "### Batching\n",
        "Implement the `batch_data` function to batch `words` data into chunks of size `batch_size` using the `TensorDataset` and `DataLoader` classes.\n",
        "\n",
        ">You can batch words using the DataLoader, but it will be up to you to create `feature_tensors` and `target_tensors` of the correct size and content for a given `sequence_length`.\n",
        "\n",
        "For example, say we have these as input:\n",
        "```\n",
        "words = [1, 2, 3, 4, 5, 6, 7]\n",
        "sequence_length = 4\n",
        "```\n",
        "\n",
        "Your first `feature_tensor` should contain the values:\n",
        "```\n",
        "[1, 2, 3, 4]\n",
        "```\n",
        "And the corresponding `target_tensor` should just be the next \"word\"/tokenized word value:\n",
        "```\n",
        "5\n",
        "```\n",
        "This should continue with the second `feature_tensor`, `target_tensor` being:\n",
        "```\n",
        "[2, 3, 4, 5]  # features\n",
        "6             # target\n",
        "```"
      ]
    },
    {
      "cell_type": "code",
      "execution_count": null,
      "metadata": {
        "collapsed": true,
        "id": "nbKWUMZ3HPIh"
      },
      "outputs": [],
      "source": [
        "from torch.utils.data import TensorDataset, DataLoader\n",
        "\n",
        "\n",
        "def batch_data(words, sequence_length, batch_size):\n",
        "    \"\"\"\n",
        "    Batch the neural network data using DataLoader\n",
        "    :param words: The word ids of the TV scripts\n",
        "    :param sequence_length: The sequence length of each batch\n",
        "    :param batch_size: The size of each batch; the number of sequences in a batch\n",
        "    :return: DataLoader with batched data\n",
        "    \"\"\"\n",
        "    # TODO: Implement function\n",
        "\n",
        "    #set shape for tensors\n",
        "    words = torch.Tensor(words)\n",
        "    feature_tensors = torch.zeros((len(words)-sequence_length+1, sequence_length), dtype=int)\n",
        "    target_tensors = torch.zeros(feature_tensors.shape[0], dtype=int)\n",
        "\n",
        "    #fill tensors\n",
        "    for idx in range(feature_tensors.shape[0]):\n",
        "      feature_tensors[idx,:] = words[idx:idx+sequence_length] \n",
        "      try:\n",
        "        target_tensors[idx] = words[idx+sequence_length] \n",
        "      except IndexError:\n",
        "        target_tensors[idx] = words[0]\n",
        "    \n",
        "    #create dataloader\n",
        "    data = TensorDataset(feature_tensors, target_tensors)\n",
        "    data_loader = DataLoader(data, shuffle=True, batch_size=batch_size)\n",
        "\n",
        "    return data_loader\n",
        "\n",
        "# there is no test for this function, but you are encouraged to create\n",
        "# print statements and tests of your own\n"
      ]
    },
    {
      "cell_type": "markdown",
      "metadata": {
        "id": "jRHWjPcaHPIi"
      },
      "source": [
        "### Test your dataloader \n",
        "\n",
        "You'll have to modify this code to test a batching function, but it should look fairly similar.\n",
        "\n",
        "Below, we're generating some test text data and defining a dataloader using the function you defined, above. Then, we are getting some sample batch of inputs `sample_x` and targets `sample_y` from our dataloader.\n",
        "\n",
        "Your code should return something like the following (likely in a different order, if you shuffled your data):\n",
        "\n",
        "```\n",
        "torch.Size([10, 5])\n",
        "tensor([[ 28,  29,  30,  31,  32],\n",
        "        [ 21,  22,  23,  24,  25],\n",
        "        [ 17,  18,  19,  20,  21],\n",
        "        [ 34,  35,  36,  37,  38],\n",
        "        [ 11,  12,  13,  14,  15],\n",
        "        [ 23,  24,  25,  26,  27],\n",
        "        [  6,   7,   8,   9,  10],\n",
        "        [ 38,  39,  40,  41,  42],\n",
        "        [ 25,  26,  27,  28,  29],\n",
        "        [  7,   8,   9,  10,  11]])\n",
        "\n",
        "torch.Size([10])\n",
        "tensor([ 33,  26,  22,  39,  16,  28,  11,  43,  30,  12])\n",
        "```\n",
        "\n",
        "### Sizes\n",
        "Your sample_x should be of size `(batch_size, sequence_length)` or (10, 5) in this case and sample_y should just have one dimension: batch_size (10). \n",
        "\n",
        "### Values\n",
        "\n",
        "You should also notice that the targets, sample_y, are the *next* value in the ordered test_text data. So, for an input sequence `[ 28,  29,  30,  31,  32]` that ends with the value `32`, the corresponding output should be `33`."
      ]
    },
    {
      "cell_type": "code",
      "execution_count": null,
      "metadata": {
        "collapsed": true,
        "id": "PZ4LA2RLHPIj",
        "colab": {
          "base_uri": "https://localhost:8080/"
        },
        "outputId": "c54e5a7d-8f52-4e16-ddb7-a94ecdd3517a"
      },
      "outputs": [
        {
          "output_type": "stream",
          "name": "stdout",
          "text": [
            "torch.Size([10, 5])\n",
            "tensor([[29, 30, 31, 32, 33],\n",
            "        [ 9, 10, 11, 12, 13],\n",
            "        [24, 25, 26, 27, 28],\n",
            "        [44, 45, 46, 47, 48],\n",
            "        [33, 34, 35, 36, 37],\n",
            "        [45, 46, 47, 48, 49],\n",
            "        [37, 38, 39, 40, 41],\n",
            "        [41, 42, 43, 44, 45],\n",
            "        [32, 33, 34, 35, 36],\n",
            "        [39, 40, 41, 42, 43]])\n",
            "\n",
            "torch.Size([10])\n",
            "tensor([34, 14, 29, 49, 38,  0, 42, 46, 37, 44])\n"
          ]
        }
      ],
      "source": [
        "# test dataloader\n",
        "\n",
        "test_text = range(50)\n",
        "t_loader = batch_data(test_text, sequence_length=5, batch_size=10)\n",
        "\n",
        "data_iter = iter(t_loader)\n",
        "sample_x, sample_y = next(data_iter)\n",
        "\n",
        "print(sample_x.shape)\n",
        "print(sample_x)\n",
        "print()\n",
        "print(sample_y.shape)\n",
        "print(sample_y)"
      ]
    },
    {
      "cell_type": "markdown",
      "metadata": {
        "id": "KRBGwu4fHPIj"
      },
      "source": [
        "---\n",
        "## Build the Neural Network\n",
        "Implement an RNN using PyTorch's [Module class](http://pytorch.org/docs/master/nn.html#torch.nn.Module). You may choose to use a GRU or an LSTM. To complete the RNN, you'll have to implement the following functions for the class:\n",
        " - `__init__` - The initialize function. \n",
        " - `init_hidden` - The initialization function for an LSTM/GRU hidden state\n",
        " - `forward` - Forward propagation function.\n",
        " \n",
        "The initialize function should create the layers of the neural network and save them to the class. The forward propagation function will use these layers to run forward propagation and generate an output and a hidden state.\n",
        "\n",
        "**The output of this model should be the *last* batch of word scores** after a complete sequence has been processed. That is, for each input sequence of words, we only want to output the word scores for a single, most likely, next word.\n",
        "\n",
        "### Hints\n",
        "\n",
        "1. Make sure to stack the outputs of the lstm to pass to your fully-connected layer, you can do this with `lstm_output = lstm_output.contiguous().view(-1, self.hidden_dim)`\n",
        "2. You can get the last batch of word scores by shaping the output of the final, fully-connected layer like so:\n",
        "\n",
        "```\n",
        "# reshape into (batch_size, seq_length, output_size)\n",
        "output = output.view(batch_size, -1, self.output_size)\n",
        "# get last batch\n",
        "out = output[:, -1]\n",
        "```"
      ]
    },
    {
      "cell_type": "code",
      "execution_count": null,
      "metadata": {
        "collapsed": true,
        "id": "t2AnWr_1HPIj",
        "colab": {
          "base_uri": "https://localhost:8080/"
        },
        "outputId": "e551936e-024a-49cd-ee65-4be561681351"
      },
      "outputs": [
        {
          "output_type": "stream",
          "name": "stdout",
          "text": [
            "Tests Passed\n"
          ]
        }
      ],
      "source": [
        "import torch.nn as nn\n",
        "\n",
        "class RNN(nn.Module):\n",
        "    \n",
        "    def __init__(self, vocab_size, output_size, embedding_dim, hidden_dim, n_layers, dropout=0.5):\n",
        "        \"\"\"\n",
        "        Initialize the PyTorch RNN Module\n",
        "        :param vocab_size: The number of input dimensions of the neural network (the size of the vocabulary)\n",
        "        :param output_size: The number of output dimensions of the neural network\n",
        "        :param embedding_dim: The size of embeddings, should you choose to use them        \n",
        "        :param hidden_dim: The size of the hidden layer outputs\n",
        "        :param dropout: dropout to add in between LSTM/GRU layers\n",
        "        \"\"\"\n",
        "        super(RNN, self).__init__()\n",
        "        # TODO: Implement function\n",
        "    \n",
        "        # set class variables\n",
        "        self.n_layers = n_layers\n",
        "        self.hidden_dim = hidden_dim\n",
        "        self.output_size = output_size\n",
        "        \n",
        "        # define model layers\n",
        "        self.embed = nn.Embedding(vocab_size,embedding_dim)\n",
        "        self.rnn = nn.LSTM(embedding_dim, \n",
        "                           hidden_size=hidden_dim, \n",
        "                           num_layers = n_layers, \n",
        "                           dropout=dropout,\n",
        "                           batch_first=True)\n",
        "        \n",
        "        self.dropout = nn.Dropout(dropout)\n",
        "        self.fc = nn.Linear(hidden_dim, output_size)\n",
        "    \n",
        "    def forward(self, nn_input, hidden):\n",
        "        \"\"\"\n",
        "        Forward propagation of the neural network\n",
        "        :param nn_input: The input to the neural network\n",
        "        :param hidden: The hidden state        \n",
        "        :return: Two Tensors, the output of the neural network and the latest hidden state\n",
        "        \"\"\"\n",
        "        # TODO: Implement function   \n",
        "        batch_size = nn_input.size(0)\n",
        "        nn_input = nn_input.long() #is this right, is this what's returned?\n",
        "        x = self.embed(nn_input)\n",
        "        r_out, hidden = self.rnn(x, hidden)\n",
        "       # out = self.dropout(r_out)\n",
        "        out = r_out.contiguous().view(-1, self.hidden_dim)\n",
        "        out = self.fc(out)\n",
        "        out = out.reshape(batch_size, -1, self.output_size)\n",
        "        return out[:,-1], hidden\n",
        "    \n",
        "    def init_hidden(self, batch_size):\n",
        "        '''\n",
        "        Initialize the hidden state of an LSTM/GRU\n",
        "        :param batch_size: The batch_size of the hidden state\n",
        "        :return: hidden state of dims (n_layers, batch_size, hidden_dim)\n",
        "        '''\n",
        "        # Implement function\n",
        "        t = next(self.parameters()).data\n",
        "\n",
        "        # initialize hidden state with zero weights, and move to GPU if available\n",
        "        if torch.cuda.is_available():\n",
        "          return (t.new_zeros(self.n_layers, batch_size, self.hidden_dim).cuda(), \n",
        "                  t.new_zeros(self.n_layers, batch_size, self.hidden_dim).cuda())\n",
        "          \n",
        "          return (t.new_zeros(self.n_layers, batch_size, self.hidden_dim), \n",
        "                  t.new_zeros(self.n_layers, batch_size, self.hidden_dim))\n",
        "        \n",
        "\"\"\"\n",
        "DON'T MODIFY ANYTHING IN THIS CELL THAT IS BELOW THIS LINE\n",
        "\"\"\"\n",
        "tests.test_rnn(RNN, train_on_gpu)"
      ]
    },
    {
      "cell_type": "markdown",
      "metadata": {
        "id": "ZA2shNVFHPIk"
      },
      "source": [
        "### Define forward and backpropagation\n",
        "\n",
        "Use the RNN class you implemented to apply forward and back propagation. This function will be called, iteratively, in the training loop as follows:\n",
        "```\n",
        "loss = forward_back_prop(decoder, decoder_optimizer, criterion, inp, target)\n",
        "```\n",
        "\n",
        "And it should return the average loss over a batch and the hidden state returned by a call to `RNN(inp, hidden)`. Recall that you can get this loss by computing it, as usual, and calling `loss.item()`.\n",
        "\n",
        "**If a GPU is available, you should move your data to that GPU device, here.**"
      ]
    },
    {
      "cell_type": "code",
      "execution_count": null,
      "metadata": {
        "collapsed": true,
        "id": "sI1eXFYpHPIk",
        "colab": {
          "base_uri": "https://localhost:8080/"
        },
        "outputId": "56bbeceb-80dc-423c-fff8-3faf68916886"
      },
      "outputs": [
        {
          "output_type": "stream",
          "name": "stdout",
          "text": [
            "Tests Passed\n"
          ]
        }
      ],
      "source": [
        "def forward_back_prop(rnn, optimizer, criterion, inp, target, hidden):\n",
        "    \"\"\"\n",
        "    Forward and backward propagation on the neural network\n",
        "    :param rnn: The PyTorch Module that holds the neural network\n",
        "    :param optimizer: The PyTorch optimizer for the neural network\n",
        "    :param criterion: The PyTorch loss function\n",
        "    :param inp: A batch of input to the neural network\n",
        "    :param target: The target output for the batch of input\n",
        "    :return: The loss and the latest hidden state Tensor\n",
        "    \"\"\"\n",
        "    \n",
        "    # TODO: Implement Function\n",
        "    \n",
        "    # move data to GPU, if available\n",
        "    #target = target.long()\n",
        "    if train_on_gpu:\n",
        "      inp, target = inp.cuda(), target.cuda()\n",
        "    \n",
        "    # perform backpropagation and optimization, reset the optimizer first\n",
        "    rnn.zero_grad()\n",
        "    hidden = tuple([each.data for each in hidden]) #detach \n",
        "    out, hidden = rnn(inp, hidden)\n",
        "    loss = criterion(out.squeeze(), target)\n",
        "    loss.backward() #compute gradients\n",
        "    nn.utils.clip_grad_norm_(rnn.parameters(), 5)\n",
        "    optimizer.step() #use gradients to update weights\n",
        "    # return the loss over a batch and the hidden state produced by our model\n",
        "    return loss.item(), hidden\n",
        "\n",
        "# Note that these tests aren't completely extensive.\n",
        "# they are here to act as general checks on the expected outputs of your functions\n",
        "\"\"\"\n",
        "DON'T MODIFY ANYTHING IN THIS CELL THAT IS BELOW THIS LINE\n",
        "\"\"\"\n",
        "tests.test_forward_back_prop(RNN, forward_back_prop, train_on_gpu)"
      ]
    },
    {
      "cell_type": "markdown",
      "metadata": {
        "id": "phPAZ9mzHPIl"
      },
      "source": [
        "## Neural Network Training\n",
        "\n",
        "With the structure of the network complete and data ready to be fed in the neural network, it's time to train it.\n",
        "\n",
        "### Train Loop\n",
        "\n",
        "The training loop is implemented for you in the `train_decoder` function. This function will train the network over all the batches for the number of epochs given. The model progress will be shown every number of batches. This number is set with the `show_every_n_batches` parameter. You'll set this parameter along with other parameters in the next section."
      ]
    },
    {
      "cell_type": "code",
      "execution_count": null,
      "metadata": {
        "collapsed": true,
        "id": "I5QU7p37HPIl"
      },
      "outputs": [],
      "source": [
        "\"\"\"\n",
        "DON'T MODIFY ANYTHING IN THIS CELL\n",
        "\"\"\"\n",
        "\n",
        "def train_rnn(rnn, batch_size, optimizer, criterion, n_epochs, show_every_n_batches=100):\n",
        "    batch_losses = []\n",
        "    \n",
        "    rnn.train()\n",
        "\n",
        "    print(\"Training for %d epoch(s)...\" % n_epochs)\n",
        "    for epoch_i in range(1, n_epochs + 1):\n",
        "        \n",
        "        # initialize hidden state\n",
        "        hidden = rnn.init_hidden(batch_size)\n",
        "        \n",
        "        for batch_i, (inputs, labels) in enumerate(train_loader, 1):\n",
        "            \n",
        "            # make sure you iterate over completely full batches, only\n",
        "            n_batches = len(train_loader.dataset)//batch_size\n",
        "            if(batch_i > n_batches):\n",
        "                break\n",
        "            \n",
        "            # forward, back prop\n",
        "            loss, hidden = forward_back_prop(rnn, optimizer, criterion, inputs, labels, hidden)          \n",
        "            # record loss\n",
        "            batch_losses.append(loss)\n",
        "\n",
        "            # printing loss stats\n",
        "            if batch_i % show_every_n_batches == 0:\n",
        "                print('Epoch: {:>4}/{:<4}  Loss: {}\\n'.format(\n",
        "                    epoch_i, n_epochs, np.average(batch_losses)))\n",
        "                batch_losses = []\n",
        "\n",
        "    # returns a trained rnn\n",
        "    return rnn"
      ]
    },
    {
      "cell_type": "markdown",
      "metadata": {
        "id": "Ilq2o9S9HPIm"
      },
      "source": [
        "### Hyperparameters\n",
        "\n",
        "Set and train the neural network with the following parameters:\n",
        "- Set `sequence_length` to the length of a sequence.\n",
        "- Set `batch_size` to the batch size.\n",
        "- Set `num_epochs` to the number of epochs to train for.\n",
        "- Set `learning_rate` to the learning rate for an Adam optimizer.\n",
        "- Set `vocab_size` to the number of unique tokens in our vocabulary.\n",
        "- Set `output_size` to the desired size of the output.\n",
        "- Set `embedding_dim` to the embedding dimension; smaller than the vocab_size.\n",
        "- Set `hidden_dim` to the hidden dimension of your RNN.\n",
        "- Set `n_layers` to the number of layers/cells in your RNN.\n",
        "- Set `show_every_n_batches` to the number of batches at which the neural network should print progress.\n",
        "\n",
        "If the network isn't getting the desired results, tweak these parameters and/or the layers in the `RNN` class."
      ]
    },
    {
      "cell_type": "code",
      "execution_count": null,
      "metadata": {
        "collapsed": true,
        "id": "kD9Jw3i_HPIm"
      },
      "outputs": [],
      "source": [
        "# Data params\n",
        "# Sequence Length\n",
        "sequence_length = 15  # was 20\n",
        "# Batch Size\n",
        "batch_size = 128\n",
        "\n",
        "# data loader - do not change\n",
        "train_loader = batch_data(int_text, sequence_length, batch_size)"
      ]
    },
    {
      "cell_type": "code",
      "execution_count": null,
      "metadata": {
        "collapsed": true,
        "id": "_dqgNqWOHPIm"
      },
      "outputs": [],
      "source": [
        "# Training parameters\n",
        "# Number of Epochs\n",
        "num_epochs = 7\n",
        "# Learning Rate\n",
        "learning_rate = 0.001\n",
        "\n",
        "# Model parameters\n",
        "# Vocab size\n",
        "vocab_size = len(vocab_to_int)\n",
        "# Output size\n",
        "output_size = vocab_size\n",
        "# Embedding Dimension\n",
        "embedding_dim = 400\n",
        "# Hidden Dimension\n",
        "hidden_dim = 512\n",
        "# Number of RNN Layers\n",
        "n_layers = 3\n",
        "\n",
        "# Show stats for every n number of batches\n",
        "show_every_n_batches = 500"
      ]
    },
    {
      "cell_type": "markdown",
      "metadata": {
        "id": "s1cR4JbBHPIn"
      },
      "source": [
        "### Train\n",
        "In the next cell, you'll train the neural network on the pre-processed data.  If you have a hard time getting a good loss, you may consider changing your hyperparameters. In general, you may get better results with larger hidden and n_layer dimensions, but larger models take a longer time to train. \n",
        "> **You should aim for a loss less than 3.5.** \n",
        "\n",
        "You should also experiment with different sequence lengths, which determine the size of the long range dependencies that a model can learn."
      ]
    },
    {
      "cell_type": "markdown",
      "source": [],
      "metadata": {
        "id": "zkndxWbnBQlZ"
      }
    },
    {
      "cell_type": "code",
      "execution_count": null,
      "metadata": {
        "collapsed": true,
        "id": "MZAKZQBMHPIn",
        "colab": {
          "base_uri": "https://localhost:8080/"
        },
        "outputId": "a9268ec0-80fc-4756-e51b-ca4ccd93866b"
      },
      "outputs": [
        {
          "output_type": "stream",
          "name": "stdout",
          "text": [
            "Training for 7 epoch(s)...\n",
            "Epoch:    1/7     Loss: 5.762361165046692\n",
            "\n",
            "Epoch:    1/7     Loss: 4.964622769355774\n",
            "\n",
            "Epoch:    1/7     Loss: 4.761242149353027\n",
            "\n",
            "Epoch:    1/7     Loss: 4.5909707283973695\n",
            "\n",
            "Epoch:    1/7     Loss: 4.531193206310272\n",
            "\n",
            "Epoch:    1/7     Loss: 4.451404229640961\n",
            "\n",
            "Epoch:    1/7     Loss: 4.409302927970886\n",
            "\n",
            "Epoch:    1/7     Loss: 4.381876951694489\n",
            "\n",
            "Epoch:    1/7     Loss: 4.313489723205566\n",
            "\n",
            "Epoch:    1/7     Loss: 4.284222678184509\n",
            "\n",
            "Epoch:    1/7     Loss: 4.2548673787117\n",
            "\n",
            "Epoch:    1/7     Loss: 4.2339910259246825\n",
            "\n",
            "Epoch:    1/7     Loss: 4.224769451141357\n",
            "\n",
            "Epoch:    2/7     Loss: 4.117211235073944\n",
            "\n",
            "Epoch:    2/7     Loss: 4.020912790298462\n",
            "\n",
            "Epoch:    2/7     Loss: 4.006009251594543\n",
            "\n",
            "Epoch:    2/7     Loss: 3.980891688346863\n",
            "\n",
            "Epoch:    2/7     Loss: 3.9950585699081422\n",
            "\n",
            "Epoch:    2/7     Loss: 3.9823880219459533\n",
            "\n",
            "Epoch:    2/7     Loss: 3.990432794094086\n",
            "\n",
            "Epoch:    2/7     Loss: 3.9730913367271423\n",
            "\n",
            "Epoch:    2/7     Loss: 3.9554994740486147\n",
            "\n",
            "Epoch:    2/7     Loss: 3.955911352157593\n",
            "\n",
            "Epoch:    2/7     Loss: 3.961869078636169\n",
            "\n",
            "Epoch:    2/7     Loss: 3.949643340587616\n",
            "\n",
            "Epoch:    2/7     Loss: 3.951887366294861\n",
            "\n",
            "Epoch:    3/7     Loss: 3.8445552994715295\n",
            "\n",
            "Epoch:    3/7     Loss: 3.7724224019050596\n",
            "\n",
            "Epoch:    3/7     Loss: 3.7484753561019897\n",
            "\n",
            "Epoch:    3/7     Loss: 3.7672503142356875\n",
            "\n",
            "Epoch:    3/7     Loss: 3.7699203963279726\n",
            "\n",
            "Epoch:    3/7     Loss: 3.7532268862724303\n",
            "\n",
            "Epoch:    3/7     Loss: 3.756749752521515\n",
            "\n",
            "Epoch:    3/7     Loss: 3.7747302236557005\n",
            "\n",
            "Epoch:    3/7     Loss: 3.7681891441345217\n",
            "\n",
            "Epoch:    3/7     Loss: 3.7651719517707827\n",
            "\n",
            "Epoch:    3/7     Loss: 3.7717302784919737\n",
            "\n",
            "Epoch:    3/7     Loss: 3.7749352130889893\n",
            "\n",
            "Epoch:    3/7     Loss: 3.774476330757141\n",
            "\n",
            "Epoch:    4/7     Loss: 3.6931707822132407\n",
            "\n",
            "Epoch:    4/7     Loss: 3.605300210952759\n",
            "\n",
            "Epoch:    4/7     Loss: 3.6104001941680908\n",
            "\n",
            "Epoch:    4/7     Loss: 3.6126533203125\n",
            "\n",
            "Epoch:    4/7     Loss: 3.609235802650452\n",
            "\n",
            "Epoch:    4/7     Loss: 3.6203052077293396\n",
            "\n",
            "Epoch:    4/7     Loss: 3.61218910074234\n",
            "\n",
            "Epoch:    4/7     Loss: 3.632561556816101\n",
            "\n",
            "Epoch:    4/7     Loss: 3.610623372554779\n",
            "\n",
            "Epoch:    4/7     Loss: 3.625969814300537\n",
            "\n",
            "Epoch:    4/7     Loss: 3.661360942840576\n",
            "\n",
            "Epoch:    4/7     Loss: 3.648011051654816\n",
            "\n",
            "Epoch:    4/7     Loss: 3.6518183116912843\n",
            "\n",
            "Epoch:    5/7     Loss: 3.564186416543305\n",
            "\n",
            "Epoch:    5/7     Loss: 3.481332311153412\n",
            "\n",
            "Epoch:    5/7     Loss: 3.4961421341896055\n",
            "\n",
            "Epoch:    5/7     Loss: 3.4969129548072817\n",
            "\n",
            "Epoch:    5/7     Loss: 3.507485022068024\n",
            "\n",
            "Epoch:    5/7     Loss: 3.4850432596206664\n",
            "\n",
            "Epoch:    5/7     Loss: 3.510145993709564\n",
            "\n",
            "Epoch:    5/7     Loss: 3.4986725182533265\n",
            "\n",
            "Epoch:    5/7     Loss: 3.540365958213806\n",
            "\n",
            "Epoch:    5/7     Loss: 3.532823173046112\n",
            "\n",
            "Epoch:    5/7     Loss: 3.5319702367782595\n",
            "\n",
            "Epoch:    5/7     Loss: 3.567890607833862\n",
            "\n",
            "Epoch:    5/7     Loss: 3.564323709487915\n",
            "\n",
            "Epoch:    6/7     Loss: 3.474319575617803\n",
            "\n",
            "Epoch:    6/7     Loss: 3.3851707005500793\n",
            "\n",
            "Epoch:    6/7     Loss: 3.3911949343681336\n",
            "\n",
            "Epoch:    6/7     Loss: 3.3959006223678587\n",
            "\n",
            "Epoch:    6/7     Loss: 3.416788282394409\n",
            "\n",
            "Epoch:    6/7     Loss: 3.4231841893196107\n",
            "\n",
            "Epoch:    6/7     Loss: 3.4171430521011352\n",
            "\n",
            "Epoch:    6/7     Loss: 3.4290208292007445\n",
            "\n",
            "Epoch:    6/7     Loss: 3.450403082370758\n",
            "\n",
            "Epoch:    6/7     Loss: 3.44538055229187\n",
            "\n",
            "Epoch:    6/7     Loss: 3.460247261047363\n",
            "\n",
            "Epoch:    6/7     Loss: 3.4684843764305113\n",
            "\n",
            "Epoch:    6/7     Loss: 3.483026490688324\n",
            "\n",
            "Epoch:    7/7     Loss: 3.3817587577890684\n",
            "\n",
            "Epoch:    7/7     Loss: 3.29857643699646\n",
            "\n",
            "Epoch:    7/7     Loss: 3.3022217659950255\n",
            "\n",
            "Epoch:    7/7     Loss: 3.3291420707702635\n",
            "\n",
            "Epoch:    7/7     Loss: 3.321788516998291\n",
            "\n",
            "Epoch:    7/7     Loss: 3.339400073051453\n",
            "\n",
            "Epoch:    7/7     Loss: 3.335969825267792\n",
            "\n",
            "Epoch:    7/7     Loss: 3.351150586605072\n",
            "\n",
            "Epoch:    7/7     Loss: 3.374756428718567\n",
            "\n",
            "Epoch:    7/7     Loss: 3.378538986206055\n",
            "\n",
            "Epoch:    7/7     Loss: 3.3786864938735963\n",
            "\n",
            "Epoch:    7/7     Loss: 3.392311765193939\n",
            "\n",
            "Epoch:    7/7     Loss: 3.412211389541626\n",
            "\n",
            "Model Trained and Saved\n"
          ]
        }
      ],
      "source": [
        "\"\"\"\n",
        "DON'T MODIFY ANYTHING IN THIS CELL\n",
        "\"\"\"\n",
        "\n",
        "# create model and move to gpu if available\n",
        "rnn = RNN(vocab_size, output_size, embedding_dim, hidden_dim, n_layers, dropout=0.5)\n",
        "if train_on_gpu:\n",
        "    rnn.cuda()\n",
        "\n",
        "# defining loss and optimization functions for training\n",
        "optimizer = torch.optim.Adam(rnn.parameters(), lr=learning_rate)\n",
        "criterion = nn.CrossEntropyLoss()\n",
        "\n",
        "# training the model\n",
        "trained_rnn = train_rnn(rnn, batch_size, optimizer, criterion, num_epochs, show_every_n_batches)\n",
        "\n",
        "# saving the trained model\n",
        "helper.save_model('./save/trained_rnn_e5', trained_rnn)\n",
        "print('Model Trained and Saved')"
      ]
    },
    {
      "cell_type": "markdown",
      "metadata": {
        "id": "2DG5NPCJHPIn"
      },
      "source": [
        "### Question: How did you decide on your model hyperparameters? \n",
        "\n",
        "Default hyperparameters: I leveraged settings using in Char-RNN and sentiment analysis as a starting point.\n",
        "\n",
        "- Learning rate = 0.001\n",
        "- hidden_dim = 512\n",
        "- n_layers = 2\n",
        "- batch_size = 128\n",
        "- seq_length = 100\n",
        "- embedding dim = 400.\n",
        "\n",
        "From here I played around with n_layers as its unclear whether 2 or 3 layers will perform better for our model. With 3 layers we were able to achieve better performance. \n",
        "\n",
        "Next, I tried decreasing the sequence length from 100 to 15. This is because the average sentence length is 5 words so I thought predicting the next setence probably has a high dependence on the last 3 setences. We were able to see minor improvements with this. \n",
        "\n",
        "I also tried adjusting the learning rate to 0.01. This resulted in poor performance and was stopped early. \n",
        "\n",
        "For the embedding dim I tried lowering it to 150 and increasing it to 512. This is because some literature suggests embedding dimensions past 50 acheive marginal gains, however, other research projects acheived high performance with embedding dims up 1000. I therefore played around with the numbers with 400 being the optimal hyperparameter. \n",
        "\n",
        "For epochs I initially tried 5 and noticed the loss was still decreasing. I therefore pushed it up to 7, which was able to acheive a loss lower than 3.5. \n",
        "\n",
        "\n",
        "\n"
      ]
    },
    {
      "cell_type": "markdown",
      "metadata": {
        "id": "QIqt6iXJHPIo"
      },
      "source": [
        "**Answer:** (Write answer, here)"
      ]
    },
    {
      "cell_type": "markdown",
      "metadata": {
        "id": "JMPas5OCHPIo"
      },
      "source": [
        "---\n",
        "# Checkpoint\n",
        "\n",
        "After running the above training cell, your model will be saved by name, `trained_rnn`, and if you save your notebook progress, **you can pause here and come back to this code at another time**. You can resume your progress by running the next cell, which will load in our word:id dictionaries _and_ load in your saved model by name!"
      ]
    },
    {
      "cell_type": "code",
      "execution_count": 20,
      "metadata": {
        "collapsed": true,
        "id": "5I4Dy2DXHPIo"
      },
      "outputs": [],
      "source": [
        "\"\"\"\n",
        "DON'T MODIFY ANYTHING IN THIS CELL\n",
        "\"\"\"\n",
        "import torch\n",
        "import helper\n",
        "import problem_unittests as tests\n",
        "\n",
        "_, vocab_to_int, int_to_vocab, token_dict = helper.load_preprocess()\n",
        "trained_rnn = helper.load_model('./save/trained_rnn_e5')"
      ]
    },
    {
      "cell_type": "markdown",
      "metadata": {
        "id": "HWmupmP-HPIp"
      },
      "source": [
        "## Generate TV Script\n",
        "With the network trained and saved, you'll use it to generate a new, \"fake\" Seinfeld TV script in this section.\n",
        "\n",
        "### Generate Text\n",
        "To generate the text, the network needs to start with a single word and repeat its predictions until it reaches a set length. You'll be using the `generate` function to do this. It takes a word id to start with, `prime_id`, and generates a set length of text, `predict_len`. Also note that it uses topk sampling to introduce some randomness in choosing the most likely next word, given an output set of word scores!"
      ]
    },
    {
      "cell_type": "code",
      "execution_count": null,
      "metadata": {
        "collapsed": true,
        "id": "7uHfRVzNHPIp"
      },
      "outputs": [],
      "source": [
        "\"\"\"\n",
        "DON'T MODIFY ANYTHING IN THIS CELL THAT IS BELOW THIS LINE\n",
        "\"\"\"\n",
        "import torch.nn.functional as F\n",
        "\n",
        "def generate(rnn, prime_id, int_to_vocab, token_dict, pad_value, predict_len=100):\n",
        "    \"\"\"\n",
        "    Generate text using the neural network\n",
        "    :param decoder: The PyTorch Module that holds the trained neural network\n",
        "    :param prime_id: The word id to start the first prediction\n",
        "    :param int_to_vocab: Dict of word id keys to word values\n",
        "    :param token_dict: Dict of puncuation tokens keys to puncuation values\n",
        "    :param pad_value: The value used to pad a sequence\n",
        "    :param predict_len: The length of text to generate\n",
        "    :return: The generated text\n",
        "    \"\"\"\n",
        "    rnn.eval()\n",
        "    \n",
        "    # create a sequence (batch_size=1) with the prime_id\n",
        "    current_seq = np.full((1, sequence_length), pad_value)\n",
        "    current_seq[-1][-1] = prime_id\n",
        "    predicted = [int_to_vocab[prime_id]]\n",
        "    \n",
        "    for _ in range(predict_len):\n",
        "        if train_on_gpu:\n",
        "            current_seq = torch.LongTensor(current_seq).cuda()\n",
        "        else:\n",
        "            current_seq = torch.LongTensor(current_seq)\n",
        "        \n",
        "        # initialize the hidden state\n",
        "        hidden = rnn.init_hidden(current_seq.size(0))\n",
        "        \n",
        "        # get the output of the rnn\n",
        "        output, _ = rnn(current_seq, hidden)\n",
        "        \n",
        "        # get the next word probabilities\n",
        "        p = F.softmax(output, dim=1).data\n",
        "        if(train_on_gpu):\n",
        "            p = p.cpu() # move to cpu\n",
        "         \n",
        "        # use top_k sampling to get the index of the next word\n",
        "        top_k = 5\n",
        "        p, top_i = p.topk(top_k)\n",
        "        top_i = top_i.numpy().squeeze()\n",
        "        \n",
        "        # select the likely next word index with some element of randomness\n",
        "        p = p.numpy().squeeze()\n",
        "        word_i = np.random.choice(top_i, p=p/p.sum())\n",
        "        \n",
        "        # retrieve that word from the dictionary\n",
        "        word = int_to_vocab[word_i]\n",
        "        predicted.append(word)     \n",
        "        \n",
        "        if(train_on_gpu):\n",
        "            current_seq = current_seq.cpu() # move to cpu\n",
        "        # the generated word becomes the next \"current sequence\" and the cycle can continue\n",
        "        if train_on_gpu:\n",
        "            current_seq = current_seq.cpu()\n",
        "        current_seq = np.roll(current_seq, -1, 1) #probably means push everything back 1\n",
        "        current_seq[-1][-1] = word_i\n",
        "    \n",
        "    gen_sentences = ' '.join(predicted)\n",
        "    \n",
        "    # Replace punctuation tokens\n",
        "    for key, token in token_dict.items():\n",
        "        ending = ' ' if key in ['\\n', '(', '\"'] else ''\n",
        "        gen_sentences = gen_sentences.replace(' ' + token.lower(), key)\n",
        "    gen_sentences = gen_sentences.replace('\\n ', '\\n')\n",
        "    gen_sentences = gen_sentences.replace('( ', '(')\n",
        "    \n",
        "    # return all the sentences\n",
        "    return gen_sentences"
      ]
    },
    {
      "cell_type": "markdown",
      "metadata": {
        "id": "ZgksdxKLHPIq"
      },
      "source": [
        "### Generate a New Script\n",
        "It's time to generate the text. Set `gen_length` to the length of TV script you want to generate and set `prime_word` to one of the following to start the prediction:\n",
        "- \"jerry\"\n",
        "- \"elaine\"\n",
        "- \"george\"\n",
        "- \"kramer\"\n",
        "\n",
        "You can set the prime word to _any word_ in our dictionary, but it's best to start with a name for generating a TV script. (You can also start with any other names you find in the original text file!)"
      ]
    },
    {
      "cell_type": "code",
      "execution_count": null,
      "metadata": {
        "id": "xUe_FaZYHPIq",
        "colab": {
          "base_uri": "https://localhost:8080/"
        },
        "outputId": "afccf7c3-b02f-4086-d87f-e8970b2794fd"
      },
      "outputs": [
        {
          "output_type": "stream",
          "name": "stdout",
          "text": [
            "jerry:.\n",
            "\n",
            "kramer:(on the phone) oh, come on.\n",
            "\n",
            "george: you know, i'm really sorry if i could get it.\n",
            "\n",
            "kramer:(to kramer) you know, you could have a little bit about the actual players.\n",
            "\n",
            "george: i don't think so..\n",
            "\n",
            "[setting: jerry's apartment]\n",
            "\n",
            "kramer: well, i don't know what to do. i was just talking about that, but i have no idea.\n",
            "\n",
            "george:(to the man) what about your clothes?(she looks over. jerry reacts)\n",
            "\n",
            "[setting: restaurant]\n",
            "\n",
            "jerry: oh, i don't have to be.\n",
            "\n",
            "kramer:(on his way) hey, i got it!\n",
            "\n",
            "elaine: what?!\n",
            "\n",
            "kramer:(laughing) well.. i...\n",
            "\n",
            "george: oh.........(to jerry) what is it? i know, i was wondering, i was in the middle of the car with a little opera.\n",
            "\n",
            "frank: well, i just wanted to talk to you, but she was in there for you.\n",
            "\n",
            "elaine: what?\n",
            "\n",
            "jerry: you know, if you were going to the party, i'm gonna get to the movies and i'll be back.\n",
            "\n",
            "jerry: oh... i don't have the job.\n",
            "\n",
            "jerry: you know, i think i have a little bit about you.\n",
            "\n",
            "elaine: well, i'm gonna go to the bathroom.\n",
            "\n",
            "elaine:(to jerry) hey!\n",
            "\n",
            "george: you know what? i can't believe this. i can't believe you were going back to the diplomat's show... i was gonna get my calzones.\n",
            "\n",
            "jerry: i think it's too late.\n",
            "\n",
            "jerry: yeah, yeah.\n",
            "\n",
            "elaine:(still trying to shut up) hey! you know what?!\n",
            "\n",
            "jerry: i don't think i was a kid, i don't know how to write up.\n",
            "\n",
            "elaine: i know.\n",
            "\n",
            "george: what is it?\n",
            "\n",
            "\n"
          ]
        }
      ],
      "source": [
        "# run the cell multiple times to get different results!\n",
        "gen_length = 400 # modify the length to your preference\n",
        "prime_word = 'jerry' # name for starting the script\n",
        "\n",
        "\"\"\"\n",
        "DON'T MODIFY ANYTHING IN THIS CELL THAT IS BELOW THIS LINE\n",
        "\"\"\"\n",
        "pad_word = helper.SPECIAL_WORDS['PADDING']\n",
        "generated_script = generate(trained_rnn, vocab_to_int[prime_word + ':'], int_to_vocab, token_dict, vocab_to_int[pad_word], gen_length)\n",
        "print(generated_script)"
      ]
    },
    {
      "cell_type": "markdown",
      "metadata": {
        "id": "W3B_iupJHPIq"
      },
      "source": [
        "#### Save your favorite scripts\n",
        "\n",
        "Once you have a script that you like (or find interesting), save it to a text file!"
      ]
    },
    {
      "cell_type": "code",
      "execution_count": null,
      "metadata": {
        "collapsed": true,
        "id": "TUBNKNuAHPIq"
      },
      "outputs": [],
      "source": [
        "# save script to a text file\n",
        "f =  open(\"generated_script_1.txt\",\"w\")\n",
        "f.write(generated_script)\n",
        "f.close()"
      ]
    },
    {
      "cell_type": "markdown",
      "metadata": {
        "id": "lV0tNyG-HPIr"
      },
      "source": [
        "# The TV Script is Not Perfect\n",
        "It's ok if the TV script doesn't make perfect sense. It should look like alternating lines of dialogue, here is one such example of a few generated lines.\n",
        "\n",
        "### Example generated script\n",
        "\n",
        ">jerry: what about me?\n",
        ">\n",
        ">jerry: i don't have to wait.\n",
        ">\n",
        ">kramer:(to the sales table)\n",
        ">\n",
        ">elaine:(to jerry) hey, look at this, i'm a good doctor.\n",
        ">\n",
        ">newman:(to elaine) you think i have no idea of this...\n",
        ">\n",
        ">elaine: oh, you better take the phone, and he was a little nervous.\n",
        ">\n",
        ">kramer:(to the phone) hey, hey, jerry, i don't want to be a little bit.(to kramer and jerry) you can't.\n",
        ">\n",
        ">jerry: oh, yeah. i don't even know, i know.\n",
        ">\n",
        ">jerry:(to the phone) oh, i know.\n",
        ">\n",
        ">kramer:(laughing) you know...(to jerry) you don't know.\n",
        "\n",
        "You can see that there are multiple characters that say (somewhat) complete sentences, but it doesn't have to be perfect! It takes quite a while to get good results, and often, you'll have to use a smaller vocabulary (and discard uncommon words), or get more data.  The Seinfeld dataset is about 3.4 MB, which is big enough for our purposes; for script generation you'll want more than 1 MB of text, generally. \n",
        "\n",
        "# Submitting This Project\n",
        "When submitting this project, make sure to run all the cells before saving the notebook. Save the notebook file as \"dlnd_tv_script_generation.ipynb\" and save another copy as an HTML file by clicking \"File\" -> \"Download as..\"->\"html\". Include the \"helper.py\" and \"problem_unittests.py\" files in your submission. Once you download these files, compress them into one zip file for submission."
      ]
    },
    {
      "cell_type": "code",
      "execution_count": null,
      "metadata": {
        "collapsed": true,
        "id": "it2FpYzFHPIr"
      },
      "outputs": [],
      "source": []
    }
  ],
  "metadata": {
    "kernelspec": {
      "display_name": "Python [default]",
      "language": "python",
      "name": "python3"
    },
    "language_info": {
      "codemirror_mode": {
        "name": "ipython",
        "version": 3
      },
      "file_extension": ".py",
      "mimetype": "text/x-python",
      "name": "python",
      "nbconvert_exporter": "python",
      "pygments_lexer": "ipython3",
      "version": "3.6.4"
    },
    "colab": {
      "provenance": [],
      "include_colab_link": true
    },
    "gpuClass": "standard",
    "accelerator": "GPU"
  },
  "nbformat": 4,
  "nbformat_minor": 0
}